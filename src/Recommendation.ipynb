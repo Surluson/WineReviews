{
 "cells": [
  {
   "cell_type": "code",
   "execution_count": 414,
   "metadata": {},
   "outputs": [],
   "source": [
    "using DataFrames, DataFramesMeta\n",
    "using Printf\n",
    "using LinearAlgebra\n",
    "using CSV"
   ]
  },
  {
   "cell_type": "markdown",
   "metadata": {},
   "source": [
    "List files in the data directory:"
   ]
  },
  {
   "cell_type": "code",
   "execution_count": 4,
   "metadata": {},
   "outputs": [
    {
     "data": {
      "text/plain": [
       "3-element Array{String,1}:\n",
       " \"winemag-data-130k-v2.csv\"  \n",
       " \"winemag-data-130k-v2.json\" \n",
       " \"winemag-data_first150k.csv\""
      ]
     },
     "execution_count": 4,
     "metadata": {},
     "output_type": "execute_result"
    }
   ],
   "source": [
    "readdir(\"../data\")"
   ]
  },
  {
   "cell_type": "markdown",
   "metadata": {},
   "source": [
    "Lets check the last file (\"winemag-data_first150k.csv\")"
   ]
  },
  {
   "cell_type": "code",
   "execution_count": 5,
   "metadata": {},
   "outputs": [
    {
     "data": {
      "text/html": [
       "<table class=\"data-frame\"><thead><tr><th></th><th>Column1</th><th>country</th><th>description</th><th>designation</th><th>points</th><th>price</th><th>province</th><th>region_1</th><th>region_2</th><th>variety</th><th>winery</th></tr><tr><th></th><th>Int64⍰</th><th>String⍰</th><th>String⍰</th><th>String⍰</th><th>Int64⍰</th><th>Float64⍰</th><th>String⍰</th><th>String⍰</th><th>String⍰</th><th>String⍰</th><th>String⍰</th></tr></thead><tbody><p>5 rows × 11 columns</p><tr><th>1</th><td>0</td><td>US</td><td>This tremendous 100% varietal wine hails from Oakville and was aged over three years in oak. Juicy red-cherry fruit and a compelling hint of caramel greet the palate, framed by elegant, fine tannins and a subtle minty tone in the background. Balanced and rewarding from start to finish, it has years ahead of it to develop further nuance. Enjoy 2022–2030.</td><td>Martha's Vineyard</td><td>96</td><td>235.0</td><td>California</td><td>Napa Valley</td><td>Napa</td><td>Cabernet Sauvignon</td><td>Heitz</td></tr><tr><th>2</th><td>1</td><td>Spain</td><td>Ripe aromas of fig, blackberry and cassis are softened and sweetened by a slathering of oaky chocolate and vanilla. This is full, layered, intense and cushioned on the palate, with rich flavors of chocolaty black fruits and baking spices. A toasty, everlasting finish is heady but ideally balanced. Drink through 2023.</td><td>Carodorum Selección Especial Reserva</td><td>96</td><td>110.0</td><td>Northern Spain</td><td>Toro</td><td>missing</td><td>Tinta de Toro</td><td>Bodega Carmen Rodríguez</td></tr><tr><th>3</th><td>2</td><td>US</td><td>Mac Watson honors the memory of a wine once made by his mother in this tremendously delicious, balanced and complex botrytised white. Dark gold in color, it layers toasted hazelnut, pear compote and orange peel flavors, reveling in the succulence of its 122 g/L of residual sugar.</td><td>Special Selected Late Harvest</td><td>96</td><td>90.0</td><td>California</td><td>Knights Valley</td><td>Sonoma</td><td>Sauvignon Blanc</td><td>Macauley</td></tr><tr><th>4</th><td>3</td><td>US</td><td>This spent 20 months in 30% new French oak, and incorporates fruit from Ponzi's Aurora, Abetina and Madrona vineyards, among others. Aromatic, dense and toasty, it deftly blends aromas and flavors of toast, cigar box, blackberry, black cherry, coffee and graphite. Tannins are polished to a fine sheen, and frame a finish loaded with dark chocolate and espresso. Drink now through 2032.</td><td>Reserve</td><td>96</td><td>65.0</td><td>Oregon</td><td>Willamette Valley</td><td>Willamette Valley</td><td>Pinot Noir</td><td>Ponzi</td></tr><tr><th>5</th><td>4</td><td>France</td><td>This is the top wine from La Bégude, named after the highest point in the vineyard at 1200 feet. It has structure, density and considerable acidity that is still calming down. With 18 months in wood, the wine has developing an extra richness and concentration. Produced by the Tari family, formerly of Château Giscours in Margaux, it is a wine made for aging. Drink from 2020.</td><td>La Brûlade</td><td>95</td><td>66.0</td><td>Provence</td><td>Bandol</td><td>missing</td><td>Provence red blend</td><td>Domaine de la Bégude</td></tr></tbody></table>"
      ],
      "text/latex": [
       "\\begin{tabular}{r|ccccccccccc}\n",
       "\t& Column1 & country & description & designation & points & price & province & region\\_1 & region\\_2 & variety & winery\\\\\n",
       "\t\\hline\n",
       "\t1 & 0 & US & This tremendous 100\\% varietal wine hails from Oakville and was aged over three years in oak. Juicy red-cherry fruit and a compelling hint of caramel greet the palate, framed by elegant, fine tannins and a subtle minty tone in the background. Balanced and rewarding from start to finish, it has years ahead of it to develop further nuance. Enjoy 2022–2030. & Martha's Vineyard & 96 & 235.0 & California & Napa Valley & Napa & Cabernet Sauvignon & Heitz \\\\\n",
       "\t2 & 1 & Spain & Ripe aromas of fig, blackberry and cassis are softened and sweetened by a slathering of oaky chocolate and vanilla. This is full, layered, intense and cushioned on the palate, with rich flavors of chocolaty black fruits and baking spices. A toasty, everlasting finish is heady but ideally balanced. Drink through 2023. & Carodorum Selección Especial Reserva & 96 & 110.0 & Northern Spain & Toro &  & Tinta de Toro & Bodega Carmen Rodríguez \\\\\n",
       "\t3 & 2 & US & Mac Watson honors the memory of a wine once made by his mother in this tremendously delicious, balanced and complex botrytised white. Dark gold in color, it layers toasted hazelnut, pear compote and orange peel flavors, reveling in the succulence of its 122 g/L of residual sugar. & Special Selected Late Harvest & 96 & 90.0 & California & Knights Valley & Sonoma & Sauvignon Blanc & Macauley \\\\\n",
       "\t4 & 3 & US & This spent 20 months in 30\\% new French oak, and incorporates fruit from Ponzi's Aurora, Abetina and Madrona vineyards, among others. Aromatic, dense and toasty, it deftly blends aromas and flavors of toast, cigar box, blackberry, black cherry, coffee and graphite. Tannins are polished to a fine sheen, and frame a finish loaded with dark chocolate and espresso. Drink now through 2032. & Reserve & 96 & 65.0 & Oregon & Willamette Valley & Willamette Valley & Pinot Noir & Ponzi \\\\\n",
       "\t5 & 4 & France & This is the top wine from La Bégude, named after the highest point in the vineyard at 1200 feet. It has structure, density and considerable acidity that is still calming down. With 18 months in wood, the wine has developing an extra richness and concentration. Produced by the Tari family, formerly of Château Giscours in Margaux, it is a wine made for aging. Drink from 2020. & La Brûlade & 95 & 66.0 & Provence & Bandol &  & Provence red blend & Domaine de la Bégude \\\\\n",
       "\\end{tabular}\n"
      ],
      "text/plain": [
       "5×11 DataFrame. Omitted printing of 9 columns\n",
       "│ Row │ Column1 │ country │\n",
       "│     │ \u001b[90mInt64⍰\u001b[39m  │ \u001b[90mString⍰\u001b[39m │\n",
       "├─────┼─────────┼─────────┤\n",
       "│ 1   │ 0       │ US      │\n",
       "│ 2   │ 1       │ Spain   │\n",
       "│ 3   │ 2       │ US      │\n",
       "│ 4   │ 3       │ US      │\n",
       "│ 5   │ 4       │ France  │"
      ]
     },
     "execution_count": 5,
     "metadata": {},
     "output_type": "execute_result"
    }
   ],
   "source": [
    "df = CSV.read(\"../data/winemag-data_first150k.csv\")\n",
    "df[1:5,:]"
   ]
  },
  {
   "cell_type": "markdown",
   "metadata": {},
   "source": [
    "**Lets see the headers we have available:**"
   ]
  },
  {
   "cell_type": "code",
   "execution_count": 6,
   "metadata": {},
   "outputs": [
    {
     "name": "stdout",
     "output_type": "stream",
     "text": [
      "Symbol[:Column1, :country, :description, :designation, :points, :price, :province, :region_1, :region_2, :variety, :winery]"
     ]
    }
   ],
   "source": [
    "print(names(df))"
   ]
  },
  {
   "cell_type": "code",
   "execution_count": 7,
   "metadata": {},
   "outputs": [
    {
     "name": "stdout",
     "output_type": "stream",
     "text": [
      "province value for 1134 is missing!\n",
      "province value for 1441 is missing!\n",
      "province value for 68227 is missing!\n",
      "province value for 113017 is missing!\n",
      "province value for 135697 is missing!\n"
     ]
    }
   ],
   "source": [
    "nrows, ncols = size(df)\n",
    "for row in 1:nrows\n",
    "    for col in 7\n",
    "        if ismissing(df[row,col])\n",
    "            println(\"$(names(df)[col]) value for $(row) is missing!\")\n",
    "        end\n",
    "    end\n",
    "end"
   ]
  },
  {
   "cell_type": "code",
   "execution_count": 8,
   "metadata": {},
   "outputs": [
    {
     "data": {
      "text/html": [
       "<table class=\"data-frame\"><thead><tr><th></th><th>Column1</th><th>country</th><th>description</th><th>designation</th><th>points</th><th>price</th><th>province</th><th>region_1</th><th>region_2</th><th>variety</th><th>winery</th></tr><tr><th></th><th>Int64⍰</th><th>String⍰</th><th>String⍰</th><th>String⍰</th><th>Int64⍰</th><th>Float64⍰</th><th>String⍰</th><th>String⍰</th><th>String⍰</th><th>String⍰</th><th>String⍰</th></tr></thead><tbody><p>150,925 rows × 11 columns</p><tr><th>1</th><td>0</td><td>US</td><td>This tremendous 100% varietal wine hails from Oakville and was aged over three years in oak. Juicy red-cherry fruit and a compelling hint of caramel greet the palate, framed by elegant, fine tannins and a subtle minty tone in the background. Balanced and rewarding from start to finish, it has years ahead of it to develop further nuance. Enjoy 2022–2030.</td><td>Martha's Vineyard</td><td>96</td><td>235.0</td><td>California</td><td>Napa Valley</td><td>Napa</td><td>Cabernet Sauvignon</td><td>Heitz</td></tr><tr><th>2</th><td>1</td><td>Spain</td><td>Ripe aromas of fig, blackberry and cassis are softened and sweetened by a slathering of oaky chocolate and vanilla. This is full, layered, intense and cushioned on the palate, with rich flavors of chocolaty black fruits and baking spices. A toasty, everlasting finish is heady but ideally balanced. Drink through 2023.</td><td>Carodorum Selección Especial Reserva</td><td>96</td><td>110.0</td><td>Northern Spain</td><td>Toro</td><td>missing</td><td>Tinta de Toro</td><td>Bodega Carmen Rodríguez</td></tr><tr><th>3</th><td>2</td><td>US</td><td>Mac Watson honors the memory of a wine once made by his mother in this tremendously delicious, balanced and complex botrytised white. Dark gold in color, it layers toasted hazelnut, pear compote and orange peel flavors, reveling in the succulence of its 122 g/L of residual sugar.</td><td>Special Selected Late Harvest</td><td>96</td><td>90.0</td><td>California</td><td>Knights Valley</td><td>Sonoma</td><td>Sauvignon Blanc</td><td>Macauley</td></tr><tr><th>4</th><td>3</td><td>US</td><td>This spent 20 months in 30% new French oak, and incorporates fruit from Ponzi's Aurora, Abetina and Madrona vineyards, among others. Aromatic, dense and toasty, it deftly blends aromas and flavors of toast, cigar box, blackberry, black cherry, coffee and graphite. Tannins are polished to a fine sheen, and frame a finish loaded with dark chocolate and espresso. Drink now through 2032.</td><td>Reserve</td><td>96</td><td>65.0</td><td>Oregon</td><td>Willamette Valley</td><td>Willamette Valley</td><td>Pinot Noir</td><td>Ponzi</td></tr><tr><th>5</th><td>4</td><td>France</td><td>This is the top wine from La Bégude, named after the highest point in the vineyard at 1200 feet. It has structure, density and considerable acidity that is still calming down. With 18 months in wood, the wine has developing an extra richness and concentration. Produced by the Tari family, formerly of Château Giscours in Margaux, it is a wine made for aging. Drink from 2020.</td><td>La Brûlade</td><td>95</td><td>66.0</td><td>Provence</td><td>Bandol</td><td>missing</td><td>Provence red blend</td><td>Domaine de la Bégude</td></tr><tr><th>6</th><td>5</td><td>Spain</td><td>Deep, dense and pure from the opening bell, this Toro is a winner. Aromas of dark ripe black fruits are cool and moderately oaked. This feels massive on the palate but sensationally balanced. Flavors of blackberry, coffee, mocha and toasty oak finish spicy, smooth and heady. Drink this exemplary Toro through 2023.</td><td>Numanthia</td><td>95</td><td>73.0</td><td>Northern Spain</td><td>Toro</td><td>missing</td><td>Tinta de Toro</td><td>Numanthia</td></tr><tr><th>7</th><td>6</td><td>Spain</td><td>Slightly gritty black-fruit aromas include a sweet note of pastry along with a hint of prune. Wall-to-wall saturation ensures that all corners of one's mouth are covered. Flavors of blackberry, mocha and chocolate are highly impressive and expressive, while this settles nicely on a long finish. Drink now through 2024.</td><td>San Román</td><td>95</td><td>65.0</td><td>Northern Spain</td><td>Toro</td><td>missing</td><td>Tinta de Toro</td><td>Maurodos</td></tr><tr><th>8</th><td>7</td><td>Spain</td><td>Lush cedary black-fruit aromas are luxe and offer notes of marzipan and vanilla. This bruiser is massive and tannic on the palate, but still lush and friendly. Chocolate is a key flavor, while baked berry and cassis flavors are hardly wallflowers. On the finish, this is tannic and deep as a sea trench. Drink this saturated black-colored Toro through 2023.</td><td>Carodorum Único Crianza</td><td>95</td><td>110.0</td><td>Northern Spain</td><td>Toro</td><td>missing</td><td>Tinta de Toro</td><td>Bodega Carmen Rodríguez</td></tr><tr><th>9</th><td>8</td><td>US</td><td>This re-named vineyard was formerly bottled as deLancellotti. You'll find striking minerality underscoring chunky black fruits. Accents of citrus and graphite comingle, with exceptional midpalate concentration. This is a wine to cellar, though it is already quite enjoyable. Drink now through 2030.</td><td>Silice</td><td>95</td><td>65.0</td><td>Oregon</td><td>Chehalem Mountains</td><td>Willamette Valley</td><td>Pinot Noir</td><td>Bergström</td></tr><tr><th>10</th><td>9</td><td>US</td><td>The producer sources from two blocks of the vineyard for this wine—one at a high elevation, which contributes bright acidity. Crunchy cranberry, pomegranate and orange peel flavors surround silky, succulent layers of texture that present as fleshy fruit. That delicately lush flavor has considerable length.</td><td>Gap's Crown Vineyard</td><td>95</td><td>60.0</td><td>California</td><td>Sonoma Coast</td><td>Sonoma</td><td>Pinot Noir</td><td>Blue Farm</td></tr><tr><th>11</th><td>10</td><td>Italy</td><td>Elegance, complexity and structure come together in this drop-dead gorgeous winethat ranks among Italy's greatest whites. It opens with sublime yellow spring flower, aromatic herb and orchard fruit scents. The creamy, delicious palate seamlessly combines juicy white peach, ripe pear and citrus flavors while white almond and savory mineral notes grace the lingering finish.</td><td>Ronco della Chiesa</td><td>95</td><td>80.0</td><td>Northeastern Italy</td><td>Collio</td><td>missing</td><td>Friulano</td><td>Borgo del Tiglio</td></tr><tr><th>12</th><td>11</td><td>US</td><td>From 18-year-old vines, this supple well-balanced effort blends flavors of mocha, cherry, vanilla and breakfast tea. Superbly integrated and delicious even at this early stage, this wine seems destined for a long and savory cellar life. Drink now through 2028.</td><td>Estate Vineyard Wadensvil Block</td><td>95</td><td>48.0</td><td>Oregon</td><td>Ribbon Ridge</td><td>Willamette Valley</td><td>Pinot Noir</td><td>Patricia Green Cellars</td></tr><tr><th>13</th><td>12</td><td>US</td><td>A standout even in this terrific lineup of 2015 releases from Patricia Green, the Weber opens with a burst of cola and tobacco scents and accents. It continues, subtle and detailed, with flavors of oranges, vanilla, tea and milk chocolate discreetly threaded through ripe blackberry fruit.</td><td>Weber Vineyard</td><td>95</td><td>48.0</td><td>Oregon</td><td>Dundee Hills</td><td>Willamette Valley</td><td>Pinot Noir</td><td>Patricia Green Cellars</td></tr><tr><th>14</th><td>13</td><td>France</td><td>This wine is in peak condition. The tannins and the secondary flavors dominate this ripe leather-textured wine. The fruit is all there as well: dried berries and hints of black-plum skins. It is a major wine right at the point of drinking with both the mature flavors and the fruit in the right balance.</td><td>Château Montus Prestige</td><td>95</td><td>90.0</td><td>Southwest France</td><td>Madiran</td><td>missing</td><td>Tannat</td><td>Vignobles Brumont</td></tr><tr><th>15</th><td>14</td><td>US</td><td>With its sophisticated mix of mineral, acid and tart fruits, this seductive effort pleases from start to finish. Supple and dense, it's got strawberry, blueberry, plum and black cherry, a touch of chocolate, and that underlying streak of mineral. All these elements are in good proportion and finish with an appealing silky texture. It's delicious already, but give it another decade for full enjoyment. Drink now through 2028.</td><td>Grace Vineyard</td><td>95</td><td>185.0</td><td>Oregon</td><td>Dundee Hills</td><td>Willamette Valley</td><td>Pinot Noir</td><td>Domaine Serene</td></tr><tr><th>16</th><td>15</td><td>US</td><td>First made in 2006, this succulent luscious Chardonnay is all about minerality. It's got a rich core of butterscotch and the seemingly endless layers of subtle flavors that biodynamic farming can bring. It spends 18 months on the lees prior to bottling. Drink now through 2028.</td><td>Sigrid</td><td>95</td><td>90.0</td><td>Oregon</td><td>Willamette Valley</td><td>Willamette Valley</td><td>Chardonnay</td><td>Bergström</td></tr><tr><th>17</th><td>16</td><td>US</td><td>This blockbuster, powerhouse of a wine suggests blueberry pie and chocolate as it opens in the glass. On the palate, it's smooth and seductively silky, offering complex cedar, peppercorn and peppery oak seasonings amidst its dense richness. It finishes with finesse and spice.</td><td>Rainin Vineyard</td><td>95</td><td>325.0</td><td>California</td><td>Diamond Mountain District</td><td>Napa</td><td>Cabernet Sauvignon</td><td>Hall</td></tr><tr><th>18</th><td>17</td><td>Spain</td><td>Nicely oaked blackberry, licorice, vanilla and charred aromas are smooth and sultry. This is an outstanding wine from an excellent year. Forward barrel-spice and mocha flavors adorn core blackberry and raspberry fruit, while this runs long and tastes vaguely chocolaty on the velvety finish. Enjoy this top-notch Tempranillo through 2030.</td><td>6 Años Reserva Premium</td><td>95</td><td>80.0</td><td>Northern Spain</td><td>Ribera del Duero</td><td>missing</td><td>Tempranillo</td><td>Valduero</td></tr><tr><th>19</th><td>18</td><td>France</td><td>Coming from a seven-acre vineyard named after the dovecote on the property, this is a magnificent wine. Powered by both fruit tannins and the 28 months of new wood aging, it is darkly rich and with great concentration. As a sign of its pedigree, there is also elegance here, a restraint which is new to this wine. That makes it a wine for long-term aging. Drink from 2022.</td><td>Le Pigeonnier</td><td>95</td><td>290.0</td><td>Southwest France</td><td>Cahors</td><td>missing</td><td>Malbec</td><td>Château Lagrézette</td></tr><tr><th>20</th><td>19</td><td>US</td><td>This fresh and lively medium-bodied wine is beautifully crafted, with cherry blossom aromas and tangy acidity. Layered and seductive, it offers a crisp mix of orange peel, cherry, pomegranate and baking spice flavors that are ready for the table or the cellar.</td><td>Gap's Crown Vineyard</td><td>95</td><td>75.0</td><td>California</td><td>Sonoma Coast</td><td>Sonoma</td><td>Pinot Noir</td><td>Gary Farrell</td></tr><tr><th>21</th><td>20</td><td>US</td><td>Heitz has made this stellar rosé from the rare Grignolino grape since 1961. Ruby grapefruit-red, it's sultry with strawberry, watermelon, orange zest and salty spice flavor, highlighted with vibrant floral aromas.</td><td>Grignolino</td><td>95</td><td>24.0</td><td>California</td><td>Napa Valley</td><td>Napa</td><td>Rosé</td><td>Heitz</td></tr><tr><th>22</th><td>21</td><td>Spain</td><td>Alluring, complex and powerful aromas of grilled meat, berries, tea, smoke, vanilla and spice cover every base. An intense palate is concentrated but still elegant. Blackberry, molasses and mocha flavors finish with chocolaty oak notes, fine tannins and overall cohesion. Drink this special Rioja from 2020 through 2035.</td><td>Prado Enea Gran Reserva</td><td>95</td><td>79.0</td><td>Northern Spain</td><td>Rioja</td><td>missing</td><td>Tempranillo Blend</td><td>Muga</td></tr><tr><th>23</th><td>22</td><td>Spain</td><td>Tarry blackberry and cheesy oak aromas are appropriate for a wine of this size and magnitude. In the mouth, this Tinta de Toro is expansive and grabby, with bullish tannins. Slightly salty earthy accents come with core blackberry flavors and notes of baking spices and chocolate, while on the finish this is long, chocolaty, delicious and not too hard or tannic. Drink through 2023.</td><td>Termanthia</td><td>95</td><td>220.0</td><td>Northern Spain</td><td>Toro</td><td>missing</td><td>Tinta de Toro</td><td>Numanthia</td></tr><tr><th>24</th><td>23</td><td>US</td><td>The apogee of this ambitious winery's white wine efforts, this bottling of just two barrels of Clone 5 shows focused marzipan, marcona almond and white peach notes on the nose. The palate sizzles with saltiness and a lemony acidity that cuts through its brown butter richness with finesse. The finish is luxurious and long.</td><td>Giallo Solare</td><td>95</td><td>60.0</td><td>California</td><td>Edna Valley</td><td>Central Coast</td><td>Chardonnay</td><td>Center of Effort</td></tr><tr><th>25</th><td>24</td><td>US</td><td>San Jose-based producer Adam Comartin heads 1,100 feet up into the mountains to source fruit for this tremendous wine, which offers wild cherry, sage, and eucalyptus scents on the nose. Ripe black plum and strawberry fruit lead the palate, followed by acid-driven waves of juniper, pine and bay leaf, finishing with a menthol-like sensation.</td><td>R-Bar-R Ranch</td><td>95</td><td>45.0</td><td>California</td><td>Santa Cruz Mountains</td><td>Central Coast</td><td>Pinot Noir</td><td>Comartin</td></tr><tr><th>26</th><td>25</td><td>New Zealand</td><td>Yields were down in 2015, but intensity is up, giving this medium-bodied, silky wine the potential to drink well through at least 2025. Hickory smoke outlines white peach before ending in a long flurry of lime zest.</td><td>Maté's Vineyard</td><td>94</td><td>57.0</td><td>Kumeu</td><td>missing</td><td>missing</td><td>Chardonnay</td><td>Kumeu River</td></tr><tr><th>27</th><td>26</td><td>US</td><td>Bergström has made a Shea designate since 2003, intent on showcasing a “pretty” style of the vineyard. Here are lovely aromatics, with grape jelly, rose petals and plum in the nose, and a complex run of red fruits in the mouth. Streaks of cola, brown sugar and more come up in a generous finish.</td><td>Shea Vineyard</td><td>94</td><td>62.0</td><td>Oregon</td><td>Willamette Valley</td><td>missing</td><td>Pinot Noir</td><td>Bergström</td></tr><tr><th>28</th><td>27</td><td>US</td><td>Focused and dense, this intense wine captures the essence of ripe raspberries. Aged in 50% new French oak, it's got a strong vein of coffee and mocha. The flavors broaden out and penetrate, finishing with highlights of cedar, cinnamon and dark chocolate. Drink now through the 2020s, but decant if you want the full expression.</td><td>Abetina</td><td>94</td><td>105.0</td><td>Oregon</td><td>Willamette Valley</td><td>Willamette Valley</td><td>Pinot Noir</td><td>Ponzi</td></tr><tr><th>29</th><td>28</td><td>US</td><td>Cranberry, baked rhubarb, anise and crushed slate aromas show on the nose of this always-excellent bottling from the Franscioni family. The palate abounds with energy, driving black raspberry fruit accented with earthy loam, fennel, oregano and juniper through a compellingly round midpalate.</td><td>Garys' Vineyard</td><td>94</td><td>60.0</td><td>California</td><td>Santa Lucia Highlands</td><td>Central Coast</td><td>Pinot Noir</td><td>Roar</td></tr><tr><th>30</th><td>29</td><td>US</td><td>This standout Rocks District wine brings earth shaking aromas of black-olive brine, tapenade, green olive, stargazer lilies, orange peel and crushed gravel. The smoked meat, charcuterie and blue-fruit flavors don't hold back, bringing a lovely sense of texture and detail. It's an intense wine that completely demands your attention.</td><td>The Funk Estate</td><td>94</td><td>60.0</td><td>Washington</td><td>Walla Walla Valley (WA)</td><td>Columbia Valley</td><td>Syrah</td><td>Saviah</td></tr><tr><th>&vellip;</th><td>&vellip;</td><td>&vellip;</td><td>&vellip;</td><td>&vellip;</td><td>&vellip;</td><td>&vellip;</td><td>&vellip;</td><td>&vellip;</td><td>&vellip;</td><td>&vellip;</td><td>&vellip;</td></tr></tbody></table>"
      ],
      "text/latex": [
       "\\begin{tabular}{r|ccccccccccc}\n",
       "\t& Column1 & country & description & designation & points & price & province & region\\_1 & region\\_2 & variety & winery\\\\\n",
       "\t\\hline\n",
       "\t1 & 0 & US & This tremendous 100\\% varietal wine hails from Oakville and was aged over three years in oak. Juicy red-cherry fruit and a compelling hint of caramel greet the palate, framed by elegant, fine tannins and a subtle minty tone in the background. Balanced and rewarding from start to finish, it has years ahead of it to develop further nuance. Enjoy 2022–2030. & Martha's Vineyard & 96 & 235.0 & California & Napa Valley & Napa & Cabernet Sauvignon & Heitz \\\\\n",
       "\t2 & 1 & Spain & Ripe aromas of fig, blackberry and cassis are softened and sweetened by a slathering of oaky chocolate and vanilla. This is full, layered, intense and cushioned on the palate, with rich flavors of chocolaty black fruits and baking spices. A toasty, everlasting finish is heady but ideally balanced. Drink through 2023. & Carodorum Selección Especial Reserva & 96 & 110.0 & Northern Spain & Toro &  & Tinta de Toro & Bodega Carmen Rodríguez \\\\\n",
       "\t3 & 2 & US & Mac Watson honors the memory of a wine once made by his mother in this tremendously delicious, balanced and complex botrytised white. Dark gold in color, it layers toasted hazelnut, pear compote and orange peel flavors, reveling in the succulence of its 122 g/L of residual sugar. & Special Selected Late Harvest & 96 & 90.0 & California & Knights Valley & Sonoma & Sauvignon Blanc & Macauley \\\\\n",
       "\t4 & 3 & US & This spent 20 months in 30\\% new French oak, and incorporates fruit from Ponzi's Aurora, Abetina and Madrona vineyards, among others. Aromatic, dense and toasty, it deftly blends aromas and flavors of toast, cigar box, blackberry, black cherry, coffee and graphite. Tannins are polished to a fine sheen, and frame a finish loaded with dark chocolate and espresso. Drink now through 2032. & Reserve & 96 & 65.0 & Oregon & Willamette Valley & Willamette Valley & Pinot Noir & Ponzi \\\\\n",
       "\t5 & 4 & France & This is the top wine from La Bégude, named after the highest point in the vineyard at 1200 feet. It has structure, density and considerable acidity that is still calming down. With 18 months in wood, the wine has developing an extra richness and concentration. Produced by the Tari family, formerly of Château Giscours in Margaux, it is a wine made for aging. Drink from 2020. & La Brûlade & 95 & 66.0 & Provence & Bandol &  & Provence red blend & Domaine de la Bégude \\\\\n",
       "\t6 & 5 & Spain & Deep, dense and pure from the opening bell, this Toro is a winner. Aromas of dark ripe black fruits are cool and moderately oaked. This feels massive on the palate but sensationally balanced. Flavors of blackberry, coffee, mocha and toasty oak finish spicy, smooth and heady. Drink this exemplary Toro through 2023. & Numanthia & 95 & 73.0 & Northern Spain & Toro &  & Tinta de Toro & Numanthia \\\\\n",
       "\t7 & 6 & Spain & Slightly gritty black-fruit aromas include a sweet note of pastry along with a hint of prune. Wall-to-wall saturation ensures that all corners of one's mouth are covered. Flavors of blackberry, mocha and chocolate are highly impressive and expressive, while this settles nicely on a long finish. Drink now through 2024. & San Román & 95 & 65.0 & Northern Spain & Toro &  & Tinta de Toro & Maurodos \\\\\n",
       "\t8 & 7 & Spain & Lush cedary black-fruit aromas are luxe and offer notes of marzipan and vanilla. This bruiser is massive and tannic on the palate, but still lush and friendly. Chocolate is a key flavor, while baked berry and cassis flavors are hardly wallflowers. On the finish, this is tannic and deep as a sea trench. Drink this saturated black-colored Toro through 2023. & Carodorum Único Crianza & 95 & 110.0 & Northern Spain & Toro &  & Tinta de Toro & Bodega Carmen Rodríguez \\\\\n",
       "\t9 & 8 & US & This re-named vineyard was formerly bottled as deLancellotti. You'll find striking minerality underscoring chunky black fruits. Accents of citrus and graphite comingle, with exceptional midpalate concentration. This is a wine to cellar, though it is already quite enjoyable. Drink now through 2030. & Silice & 95 & 65.0 & Oregon & Chehalem Mountains & Willamette Valley & Pinot Noir & Bergström \\\\\n",
       "\t10 & 9 & US & The producer sources from two blocks of the vineyard for this wine—one at a high elevation, which contributes bright acidity. Crunchy cranberry, pomegranate and orange peel flavors surround silky, succulent layers of texture that present as fleshy fruit. That delicately lush flavor has considerable length. & Gap's Crown Vineyard & 95 & 60.0 & California & Sonoma Coast & Sonoma & Pinot Noir & Blue Farm \\\\\n",
       "\t11 & 10 & Italy & Elegance, complexity and structure come together in this drop-dead gorgeous winethat ranks among Italy's greatest whites. It opens with sublime yellow spring flower, aromatic herb and orchard fruit scents. The creamy, delicious palate seamlessly combines juicy white peach, ripe pear and citrus flavors while white almond and savory mineral notes grace the lingering finish. & Ronco della Chiesa & 95 & 80.0 & Northeastern Italy & Collio &  & Friulano & Borgo del Tiglio \\\\\n",
       "\t12 & 11 & US & From 18-year-old vines, this supple well-balanced effort blends flavors of mocha, cherry, vanilla and breakfast tea. Superbly integrated and delicious even at this early stage, this wine seems destined for a long and savory cellar life. Drink now through 2028. & Estate Vineyard Wadensvil Block & 95 & 48.0 & Oregon & Ribbon Ridge & Willamette Valley & Pinot Noir & Patricia Green Cellars \\\\\n",
       "\t13 & 12 & US & A standout even in this terrific lineup of 2015 releases from Patricia Green, the Weber opens with a burst of cola and tobacco scents and accents. It continues, subtle and detailed, with flavors of oranges, vanilla, tea and milk chocolate discreetly threaded through ripe blackberry fruit. & Weber Vineyard & 95 & 48.0 & Oregon & Dundee Hills & Willamette Valley & Pinot Noir & Patricia Green Cellars \\\\\n",
       "\t14 & 13 & France & This wine is in peak condition. The tannins and the secondary flavors dominate this ripe leather-textured wine. The fruit is all there as well: dried berries and hints of black-plum skins. It is a major wine right at the point of drinking with both the mature flavors and the fruit in the right balance. & Château Montus Prestige & 95 & 90.0 & Southwest France & Madiran &  & Tannat & Vignobles Brumont \\\\\n",
       "\t15 & 14 & US & With its sophisticated mix of mineral, acid and tart fruits, this seductive effort pleases from start to finish. Supple and dense, it's got strawberry, blueberry, plum and black cherry, a touch of chocolate, and that underlying streak of mineral. All these elements are in good proportion and finish with an appealing silky texture. It's delicious already, but give it another decade for full enjoyment. Drink now through 2028. & Grace Vineyard & 95 & 185.0 & Oregon & Dundee Hills & Willamette Valley & Pinot Noir & Domaine Serene \\\\\n",
       "\t16 & 15 & US & First made in 2006, this succulent luscious Chardonnay is all about minerality. It's got a rich core of butterscotch and the seemingly endless layers of subtle flavors that biodynamic farming can bring. It spends 18 months on the lees prior to bottling. Drink now through 2028. & Sigrid & 95 & 90.0 & Oregon & Willamette Valley & Willamette Valley & Chardonnay & Bergström \\\\\n",
       "\t17 & 16 & US & This blockbuster, powerhouse of a wine suggests blueberry pie and chocolate as it opens in the glass. On the palate, it's smooth and seductively silky, offering complex cedar, peppercorn and peppery oak seasonings amidst its dense richness. It finishes with finesse and spice. & Rainin Vineyard & 95 & 325.0 & California & Diamond Mountain District & Napa & Cabernet Sauvignon & Hall \\\\\n",
       "\t18 & 17 & Spain & Nicely oaked blackberry, licorice, vanilla and charred aromas are smooth and sultry. This is an outstanding wine from an excellent year. Forward barrel-spice and mocha flavors adorn core blackberry and raspberry fruit, while this runs long and tastes vaguely chocolaty on the velvety finish. Enjoy this top-notch Tempranillo through 2030. & 6 Años Reserva Premium & 95 & 80.0 & Northern Spain & Ribera del Duero &  & Tempranillo & Valduero \\\\\n",
       "\t19 & 18 & France & Coming from a seven-acre vineyard named after the dovecote on the property, this is a magnificent wine. Powered by both fruit tannins and the 28 months of new wood aging, it is darkly rich and with great concentration. As a sign of its pedigree, there is also elegance here, a restraint which is new to this wine. That makes it a wine for long-term aging. Drink from 2022. & Le Pigeonnier & 95 & 290.0 & Southwest France & Cahors &  & Malbec & Château Lagrézette \\\\\n",
       "\t20 & 19 & US & This fresh and lively medium-bodied wine is beautifully crafted, with cherry blossom aromas and tangy acidity. Layered and seductive, it offers a crisp mix of orange peel, cherry, pomegranate and baking spice flavors that are ready for the table or the cellar. & Gap's Crown Vineyard & 95 & 75.0 & California & Sonoma Coast & Sonoma & Pinot Noir & Gary Farrell \\\\\n",
       "\t21 & 20 & US & Heitz has made this stellar rosé from the rare Grignolino grape since 1961. Ruby grapefruit-red, it's sultry with strawberry, watermelon, orange zest and salty spice flavor, highlighted with vibrant floral aromas. & Grignolino & 95 & 24.0 & California & Napa Valley & Napa & Rosé & Heitz \\\\\n",
       "\t22 & 21 & Spain & Alluring, complex and powerful aromas of grilled meat, berries, tea, smoke, vanilla and spice cover every base. An intense palate is concentrated but still elegant. Blackberry, molasses and mocha flavors finish with chocolaty oak notes, fine tannins and overall cohesion. Drink this special Rioja from 2020 through 2035. & Prado Enea Gran Reserva & 95 & 79.0 & Northern Spain & Rioja &  & Tempranillo Blend & Muga \\\\\n",
       "\t23 & 22 & Spain & Tarry blackberry and cheesy oak aromas are appropriate for a wine of this size and magnitude. In the mouth, this Tinta de Toro is expansive and grabby, with bullish tannins. Slightly salty earthy accents come with core blackberry flavors and notes of baking spices and chocolate, while on the finish this is long, chocolaty, delicious and not too hard or tannic. Drink through 2023. & Termanthia & 95 & 220.0 & Northern Spain & Toro &  & Tinta de Toro & Numanthia \\\\\n",
       "\t24 & 23 & US & The apogee of this ambitious winery's white wine efforts, this bottling of just two barrels of Clone 5 shows focused marzipan, marcona almond and white peach notes on the nose. The palate sizzles with saltiness and a lemony acidity that cuts through its brown butter richness with finesse. The finish is luxurious and long. & Giallo Solare & 95 & 60.0 & California & Edna Valley & Central Coast & Chardonnay & Center of Effort \\\\\n",
       "\t25 & 24 & US & San Jose-based producer Adam Comartin heads 1,100 feet up into the mountains to source fruit for this tremendous wine, which offers wild cherry, sage, and eucalyptus scents on the nose. Ripe black plum and strawberry fruit lead the palate, followed by acid-driven waves of juniper, pine and bay leaf, finishing with a menthol-like sensation. & R-Bar-R Ranch & 95 & 45.0 & California & Santa Cruz Mountains & Central Coast & Pinot Noir & Comartin \\\\\n",
       "\t26 & 25 & New Zealand & Yields were down in 2015, but intensity is up, giving this medium-bodied, silky wine the potential to drink well through at least 2025. Hickory smoke outlines white peach before ending in a long flurry of lime zest. & Maté's Vineyard & 94 & 57.0 & Kumeu &  &  & Chardonnay & Kumeu River \\\\\n",
       "\t27 & 26 & US & Bergström has made a Shea designate since 2003, intent on showcasing a “pretty” style of the vineyard. Here are lovely aromatics, with grape jelly, rose petals and plum in the nose, and a complex run of red fruits in the mouth. Streaks of cola, brown sugar and more come up in a generous finish. & Shea Vineyard & 94 & 62.0 & Oregon & Willamette Valley &  & Pinot Noir & Bergström \\\\\n",
       "\t28 & 27 & US & Focused and dense, this intense wine captures the essence of ripe raspberries. Aged in 50\\% new French oak, it's got a strong vein of coffee and mocha. The flavors broaden out and penetrate, finishing with highlights of cedar, cinnamon and dark chocolate. Drink now through the 2020s, but decant if you want the full expression. & Abetina & 94 & 105.0 & Oregon & Willamette Valley & Willamette Valley & Pinot Noir & Ponzi \\\\\n",
       "\t29 & 28 & US & Cranberry, baked rhubarb, anise and crushed slate aromas show on the nose of this always-excellent bottling from the Franscioni family. The palate abounds with energy, driving black raspberry fruit accented with earthy loam, fennel, oregano and juniper through a compellingly round midpalate. & Garys' Vineyard & 94 & 60.0 & California & Santa Lucia Highlands & Central Coast & Pinot Noir & Roar \\\\\n",
       "\t30 & 29 & US & This standout Rocks District wine brings earth shaking aromas of black-olive brine, tapenade, green olive, stargazer lilies, orange peel and crushed gravel. The smoked meat, charcuterie and blue-fruit flavors don't hold back, bringing a lovely sense of texture and detail. It's an intense wine that completely demands your attention. & The Funk Estate & 94 & 60.0 & Washington & Walla Walla Valley (WA) & Columbia Valley & Syrah & Saviah \\\\\n",
       "\t$\\dots$ & $\\dots$ & $\\dots$ & $\\dots$ & $\\dots$ & $\\dots$ & $\\dots$ & $\\dots$ & $\\dots$ & $\\dots$ & $\\dots$ & $\\dots$ \\\\\n",
       "\\end{tabular}\n"
      ],
      "text/plain": [
       "150925×11 DataFrame. Omitted printing of 9 columns\n",
       "│ Row    │ Column1 │ country │\n",
       "│        │ \u001b[90mInt64⍰\u001b[39m  │ \u001b[90mString⍰\u001b[39m │\n",
       "├────────┼─────────┼─────────┤\n",
       "│ 1      │ 0       │ US      │\n",
       "│ 2      │ 1       │ Spain   │\n",
       "│ 3      │ 2       │ US      │\n",
       "│ 4      │ 3       │ US      │\n",
       "│ 5      │ 4       │ France  │\n",
       "│ 6      │ 5       │ Spain   │\n",
       "│ 7      │ 6       │ Spain   │\n",
       "│ 8      │ 7       │ Spain   │\n",
       "│ 9      │ 8       │ US      │\n",
       "│ 10     │ 9       │ US      │\n",
       "⋮\n",
       "│ 150915 │ 150919  │ France  │\n",
       "│ 150916 │ 150920  │ Italy   │\n",
       "│ 150917 │ 150921  │ France  │\n",
       "│ 150918 │ 150922  │ Italy   │\n",
       "│ 150919 │ 150923  │ France  │\n",
       "│ 150920 │ 150924  │ France  │\n",
       "│ 150921 │ 150925  │ Italy   │\n",
       "│ 150922 │ 150926  │ France  │\n",
       "│ 150923 │ 150927  │ Italy   │\n",
       "│ 150924 │ 150928  │ France  │\n",
       "│ 150925 │ 150929  │ Italy   │"
      ]
     },
     "execution_count": 8,
     "metadata": {},
     "output_type": "execute_result"
    }
   ],
   "source": [
    "deleterows!(df, [1134, 1441, 68227, 113017, 135697]);"
   ]
  },
  {
   "cell_type": "markdown",
   "metadata": {},
   "source": [
    "**Lets reduce the size of the dataset to wines in Oregon (mostly because I'm running out of time doing this)**"
   ]
  },
  {
   "cell_type": "code",
   "execution_count": 252,
   "metadata": {},
   "outputs": [
    {
     "data": {
      "text/html": [
       "<table class=\"data-frame\"><thead><tr><th></th><th>Column1</th><th>country</th><th>description</th><th>designation</th><th>points</th><th>price</th><th>province</th><th>region_1</th><th>region_2</th><th>variety</th><th>winery</th></tr><tr><th></th><th>Int64⍰</th><th>String⍰</th><th>String⍰</th><th>String⍰</th><th>Int64⍰</th><th>Float64⍰</th><th>String⍰</th><th>String⍰</th><th>String⍰</th><th>String⍰</th><th>String⍰</th></tr></thead><tbody><p>4,589 rows × 11 columns</p><tr><th>1</th><td>3</td><td>US</td><td>This spent 20 months in 30% new French oak, and incorporates fruit from Ponzi's Aurora, Abetina and Madrona vineyards, among others. Aromatic, dense and toasty, it deftly blends aromas and flavors of toast, cigar box, blackberry, black cherry, coffee and graphite. Tannins are polished to a fine sheen, and frame a finish loaded with dark chocolate and espresso. Drink now through 2032.</td><td>Reserve</td><td>96</td><td>65.0</td><td>Oregon</td><td>Willamette Valley</td><td>Willamette Valley</td><td>Pinot Noir</td><td>Ponzi</td></tr><tr><th>2</th><td>8</td><td>US</td><td>This re-named vineyard was formerly bottled as deLancellotti. You'll find striking minerality underscoring chunky black fruits. Accents of citrus and graphite comingle, with exceptional midpalate concentration. This is a wine to cellar, though it is already quite enjoyable. Drink now through 2030.</td><td>Silice</td><td>95</td><td>65.0</td><td>Oregon</td><td>Chehalem Mountains</td><td>Willamette Valley</td><td>Pinot Noir</td><td>Bergström</td></tr><tr><th>3</th><td>11</td><td>US</td><td>From 18-year-old vines, this supple well-balanced effort blends flavors of mocha, cherry, vanilla and breakfast tea. Superbly integrated and delicious even at this early stage, this wine seems destined for a long and savory cellar life. Drink now through 2028.</td><td>Estate Vineyard Wadensvil Block</td><td>95</td><td>48.0</td><td>Oregon</td><td>Ribbon Ridge</td><td>Willamette Valley</td><td>Pinot Noir</td><td>Patricia Green Cellars</td></tr><tr><th>4</th><td>12</td><td>US</td><td>A standout even in this terrific lineup of 2015 releases from Patricia Green, the Weber opens with a burst of cola and tobacco scents and accents. It continues, subtle and detailed, with flavors of oranges, vanilla, tea and milk chocolate discreetly threaded through ripe blackberry fruit.</td><td>Weber Vineyard</td><td>95</td><td>48.0</td><td>Oregon</td><td>Dundee Hills</td><td>Willamette Valley</td><td>Pinot Noir</td><td>Patricia Green Cellars</td></tr><tr><th>5</th><td>14</td><td>US</td><td>With its sophisticated mix of mineral, acid and tart fruits, this seductive effort pleases from start to finish. Supple and dense, it's got strawberry, blueberry, plum and black cherry, a touch of chocolate, and that underlying streak of mineral. All these elements are in good proportion and finish with an appealing silky texture. It's delicious already, but give it another decade for full enjoyment. Drink now through 2028.</td><td>Grace Vineyard</td><td>95</td><td>185.0</td><td>Oregon</td><td>Dundee Hills</td><td>Willamette Valley</td><td>Pinot Noir</td><td>Domaine Serene</td></tr><tr><th>6</th><td>15</td><td>US</td><td>First made in 2006, this succulent luscious Chardonnay is all about minerality. It's got a rich core of butterscotch and the seemingly endless layers of subtle flavors that biodynamic farming can bring. It spends 18 months on the lees prior to bottling. Drink now through 2028.</td><td>Sigrid</td><td>95</td><td>90.0</td><td>Oregon</td><td>Willamette Valley</td><td>Willamette Valley</td><td>Chardonnay</td><td>Bergström</td></tr><tr><th>7</th><td>26</td><td>US</td><td>Bergström has made a Shea designate since 2003, intent on showcasing a “pretty” style of the vineyard. Here are lovely aromatics, with grape jelly, rose petals and plum in the nose, and a complex run of red fruits in the mouth. Streaks of cola, brown sugar and more come up in a generous finish.</td><td>Shea Vineyard</td><td>94</td><td>62.0</td><td>Oregon</td><td>Willamette Valley</td><td>missing</td><td>Pinot Noir</td><td>Bergström</td></tr><tr><th>8</th><td>27</td><td>US</td><td>Focused and dense, this intense wine captures the essence of ripe raspberries. Aged in 50% new French oak, it's got a strong vein of coffee and mocha. The flavors broaden out and penetrate, finishing with highlights of cedar, cinnamon and dark chocolate. Drink now through the 2020s, but decant if you want the full expression.</td><td>Abetina</td><td>94</td><td>105.0</td><td>Oregon</td><td>Willamette Valley</td><td>Willamette Valley</td><td>Pinot Noir</td><td>Ponzi</td></tr><tr><th>9</th><td>68</td><td>US</td><td>Big, bold, dark and chewy, this builds upon substantial black-cherry fruit and supporting acids. Still knitting together, it shows highlights of cedar and tobacco, along with thick tannins. Give this a couple more years of bottle age, and drink after 2018.</td><td>Schindler Vineyard</td><td>91</td><td>50.0</td><td>Oregon</td><td>Eola-Amity Hills</td><td>Willamette Valley</td><td>Pinot Noir</td><td>Panther Creek</td></tr><tr><th>10</th><td>73</td><td>US</td><td>Massively fruity, this is an apple/pear bonanza, fleshy and almost lasciviously delicious. The huge fruit flavors convey an impression of sweetness, though this is not identified as off dry. It has tremendous density and length.</td><td>missing</td><td>91</td><td>19.0</td><td>Oregon</td><td>Willamette Valley</td><td>Willamette Valley</td><td>Pinot Gris</td><td>Trinity Vineyards</td></tr><tr><th>11</th><td>75</td><td>US</td><td>An elegant blend from different estate vineyards, this widely available cuvée brings sturdy tannins and red currant fruit, highlighted with pretty baking spices. It would be an ideal match for roast duck with an orange sauce.</td><td>Premier Cuvée</td><td>91</td><td>54.0</td><td>Oregon</td><td>Willamette Valley</td><td>Willamette Valley</td><td>Pinot Noir</td><td>Archery Summit</td></tr><tr><th>12</th><td>80</td><td>US</td><td>Generous black-cherry fruit anchors this barrel-aged wine that remains tartly acidic, with pretty accents of toast and mocha. Focused, young and fresh, it should drink optimally 2018–2028.</td><td>Aeolian</td><td>91</td><td>42.0</td><td>Oregon</td><td>Eola-Amity Hills</td><td>Willamette Valley</td><td>Pinot Noir</td><td>Bethel Heights</td></tr><tr><th>13</th><td>143</td><td>US</td><td>Estate grown and aged in Stainless steel, this racy and pungent wine is packed with rich, juicy fruit flavors. Apple, lemon-lime and tangerine are in the mix, showing that Chardonnay does not always need oak flavors to have real power.</td><td>missing</td><td>90</td><td>26.0</td><td>Oregon</td><td>Applegate Valley</td><td>Southern Oregon</td><td>Chardonnay</td><td>Schmidt</td></tr><tr><th>14</th><td>150</td><td>US</td><td>Reflecting the vintage, this Pinot is light and lithe in style. It shows tart cherry fruit and suggestions of chocolate, with bright acidity and a thin finish.</td><td>missing</td><td>89</td><td>50.0</td><td>Oregon</td><td>Willamette Valley</td><td>Willamette Valley</td><td>Pinot Noir</td><td>Bomb</td></tr><tr><th>15</th><td>157</td><td>US</td><td>In this fruit-forward vintage, it's not surprising to find that what shines here are the bright, spicy and tart flavors of strawberries, raspberries and cherries. The Sangiovese was co-fermented with 7% Syrah, and aged in 30% new American oak. As the wine breathes open the flavors of oak and char come up, and the tannins show some extra grip.</td><td>missing</td><td>89</td><td>24.0</td><td>Oregon</td><td>Rogue Valley</td><td>Southern Oregon</td><td>Sangiovese</td><td>Ledger David</td></tr><tr><th>16</th><td>161</td><td>US</td><td>A blend of fruit from three Rogue Valley sites, this is a fine example of the style of Pinot made in Southern Oregon. The estate vineyard sits at 2,100 feet on a steep, east-facing slope, with densely planted vines. It's a big, blocky, full-bodied wine, loaded with flavors of black cherry, black coffee and barrel toast. Tannins are substantial, but the flavors are full and forward. What it lacks in elegance it makes up for in immediate likeability.</td><td>missing</td><td>89</td><td>35.0</td><td>Oregon</td><td>Oregon</td><td>Oregon Other</td><td>Pinot Noir</td><td>Irvine Family Vineyards</td></tr><tr><th>17</th><td>165</td><td>US</td><td>Tightly focused, as is often true of single-vineyard bottlings, this matches spicy berry fruit to light barrel flavors of milk chocolate. It's smooth and accessible, but finishes a bit short.</td><td>Freedom Hill Vineyard</td><td>89</td><td>36.0</td><td>Oregon</td><td>Willamette Valley</td><td>Willamette Valley</td><td>Pinot Noir</td><td>Silvan Ridge</td></tr><tr><th>18</th><td>246</td><td>US</td><td>Toasty scents and flavors of the barrels (40% new) cloak tart raspberry fruit. It's clean and efficient, though for the moment at least, the barrel flavors outrun the rather light fruit. That can change over time, so give this one until 2015 or so in bottle.</td><td>Estate</td><td>88</td><td>36.0</td><td>Oregon</td><td>McMinnville</td><td>Willamette Valley</td><td>Pinot Noir</td><td>Coeur de Terre</td></tr><tr><th>19</th><td>252</td><td>US</td><td>Sourced from the estate vineyard—the same vineyard that fuels the Private Stash reserve—this shows a dusty, somewhat charred character, presumably from the barrel aging. Along with the slightly burnt toast character comes plenty of black cherry fruit, and acids that leave a slightly chalky impression in the finish.</td><td>Wits' End</td><td>88</td><td>60.0</td><td>Oregon</td><td>Chehalem Mountains</td><td>Willamette Valley</td><td>Pinot Noir</td><td>Roco</td></tr><tr><th>20</th><td>254</td><td>US</td><td>This is a frizzante style of Muscat, the pressure slight enough to allow for a screwcap seal. Off-dry, spicy and aromatic, it's a great sipping wine, with concentrated flavors of sweet orange-pekoe tea.</td><td>Early</td><td>88</td><td>15.0</td><td>Oregon</td><td>Willamette Valley</td><td>Willamette Valley</td><td>Muscat</td><td>Silvan Ridge</td></tr><tr><th>21</th><td>289</td><td>US</td><td>Sourced from a 15-acre vineyard on Parrett Mountain, this displays single vineyard specificity. Entry is surprisingly soft, and (perhaps influenced by the name) there seems to be a pleasing clay-like quality to the mouthfeel. Clean blueberry fruit leads into a tasty, balanced finish.</td><td>Clay Court</td><td>91</td><td>60.0</td><td>Oregon</td><td>Willamette Valley</td><td>Willamette Valley</td><td>Pinot Noir</td><td>Elk Cove</td></tr><tr><th>22</th><td>292</td><td>US</td><td>Sourced from the Chalice (estate) vineyard, this aromatic and seductive wine presents a compelling mix of tree fruits, racy acidity, and a rich, textural, open mouthfeel. The flavors of pears, orange peel and snappy spices linger deliciously through a long finish.</td><td>missing</td><td>91</td><td>16.0</td><td>Oregon</td><td>Oregon</td><td>Oregon Other</td><td>Pinot Gris</td><td>Iris Vineyards</td></tr><tr><th>23</th><td>306</td><td>US</td><td>The estate's 13 acres were first planted in 1999. This lovely wine expresses itself with perfectly ripened black-cherry fruit, a dash of cola, and an underpinning of clean earth, complemented with a touch of mineral. The finish is superb.</td><td>Bergström Vineyard</td><td>94</td><td>90.0</td><td>Oregon</td><td>Dundee Hills</td><td>Willamette Valley</td><td>Pinot Noir</td><td>Bergström</td></tr><tr><th>24</th><td>309</td><td>US</td><td>There is a darker fruit spectrum evident in the reserve, with notes of coffee, smoke, black fruits, a touch of charred wood all worked through, and without damping the core fruit flavors. Those bright flavors spotlight raspberry, plum and black cherry. A light cola flavor pokes through, with ripe tannins and proportionate acids. The barrel treatment is beautifully applied, adding sweet spice to the finish.</td><td>Evenstad Reserve</td><td>94</td><td>70.0</td><td>Oregon</td><td>Willamette Valley</td><td>Willamette Valley</td><td>Pinot Noir</td><td>Domaine Serene</td></tr><tr><th>25</th><td>314</td><td>US</td><td>This gorgeous wine deftly integrates a lively mix of currant, cherry, breakfast tea and dried leaves into a seamless and seductive whole. Produced from vines dating back to the early 1970s, it finishes with a delicious streak of milk chocolate. Drink now through 2030.</td><td>Durant Vineyard Bishop Block</td><td>94</td><td>48.0</td><td>Oregon</td><td>Dundee Hills</td><td>Willamette Valley</td><td>Pinot Noir</td><td>Patricia Green Cellars</td></tr><tr><th>26</th><td>317</td><td>US</td><td>Intensely aromatic, yet big and even chunky in the mouth, this young wine remains compressed and hard-edged. Give it ample aeration, and cranberry, blackberry and black cherry fruits come alive. Dense with fruit and detailed with wet stone minerality, this should be cellared a few years, and consumed from 2020 to 2030.</td><td>Ribbon Ridge Estate</td><td>94</td><td>49.0</td><td>Oregon</td><td>Ribbon Ridge</td><td>Willamette Valley</td><td>Pinot Noir</td><td>Trisaetum</td></tr><tr><th>27</th><td>329</td><td>US</td><td>Polished in every way, this brings an enticing potpourri of almond paste, apple and white pepper. Wild yeast fermentation in oak (30% new) marries complex components in perfect precise balance. As with all the Ponzi 2014 Chardonnays, the acids are bright but not biting, and the wines are built for both near-term enjoyment and medium-term aging.</td><td>Aurora Vineyard</td><td>94</td><td>63.0</td><td>Oregon</td><td>Willamette Valley</td><td>Willamette Valley</td><td>Chardonnay</td><td>Ponzi</td></tr><tr><th>28</th><td>337</td><td>US</td><td>This lush offering opens with appealing aromas of rose petals and fresh strawberries, then glides into a smooth-as-silk midpalate. The berry/cherry fruit is nicely adorned with toasty barrel flavors, and it's as satiny as new sheets. You'll find it hard to keep from gulping this by the glassful.</td><td>missing</td><td>91</td><td>30.0</td><td>Oregon</td><td>Willamette Valley</td><td>Willamette Valley</td><td>Pinot Noir</td><td>La Crema</td></tr><tr><th>29</th><td>351</td><td>US</td><td>A limited, popular entry in Winderlea's extensive single-vineyard lineup, this suggests cherry kirsch with streaks of coffee and tobacco. The pretty fruit leads into darker notes of tar and espresso. Still young and primary, the Juliard may be among the vintage's most long-lasting wines.</td><td>Juliard Vineyard</td><td>91</td><td>48.0</td><td>Oregon</td><td>Dundee Hills</td><td>Willamette Valley</td><td>Pinot Noir</td><td>Winderlea</td></tr><tr><th>30</th><td>354</td><td>US</td><td>Principally Pinot Noir, the blend includes 25% Pinot Meunier and a splash of Chardonnay. It's a light and pretty salmon pink in hue, with hints of honeysuckle and moist earth in the nose. Flavors suggest tart raspberries and Bing cherries, with impressive minerality in the crisp, lingering finish.</td><td>Brut Rosé</td><td>91</td><td>50.0</td><td>Oregon</td><td>Willamette Valley</td><td>Willamette Valley</td><td>Sparkling Blend</td><td>Argyle</td></tr><tr><th>&vellip;</th><td>&vellip;</td><td>&vellip;</td><td>&vellip;</td><td>&vellip;</td><td>&vellip;</td><td>&vellip;</td><td>&vellip;</td><td>&vellip;</td><td>&vellip;</td><td>&vellip;</td><td>&vellip;</td></tr></tbody></table>"
      ],
      "text/latex": [
       "\\begin{tabular}{r|ccccccccccc}\n",
       "\t& Column1 & country & description & designation & points & price & province & region\\_1 & region\\_2 & variety & winery\\\\\n",
       "\t\\hline\n",
       "\t1 & 3 & US & This spent 20 months in 30\\% new French oak, and incorporates fruit from Ponzi's Aurora, Abetina and Madrona vineyards, among others. Aromatic, dense and toasty, it deftly blends aromas and flavors of toast, cigar box, blackberry, black cherry, coffee and graphite. Tannins are polished to a fine sheen, and frame a finish loaded with dark chocolate and espresso. Drink now through 2032. & Reserve & 96 & 65.0 & Oregon & Willamette Valley & Willamette Valley & Pinot Noir & Ponzi \\\\\n",
       "\t2 & 8 & US & This re-named vineyard was formerly bottled as deLancellotti. You'll find striking minerality underscoring chunky black fruits. Accents of citrus and graphite comingle, with exceptional midpalate concentration. This is a wine to cellar, though it is already quite enjoyable. Drink now through 2030. & Silice & 95 & 65.0 & Oregon & Chehalem Mountains & Willamette Valley & Pinot Noir & Bergström \\\\\n",
       "\t3 & 11 & US & From 18-year-old vines, this supple well-balanced effort blends flavors of mocha, cherry, vanilla and breakfast tea. Superbly integrated and delicious even at this early stage, this wine seems destined for a long and savory cellar life. Drink now through 2028. & Estate Vineyard Wadensvil Block & 95 & 48.0 & Oregon & Ribbon Ridge & Willamette Valley & Pinot Noir & Patricia Green Cellars \\\\\n",
       "\t4 & 12 & US & A standout even in this terrific lineup of 2015 releases from Patricia Green, the Weber opens with a burst of cola and tobacco scents and accents. It continues, subtle and detailed, with flavors of oranges, vanilla, tea and milk chocolate discreetly threaded through ripe blackberry fruit. & Weber Vineyard & 95 & 48.0 & Oregon & Dundee Hills & Willamette Valley & Pinot Noir & Patricia Green Cellars \\\\\n",
       "\t5 & 14 & US & With its sophisticated mix of mineral, acid and tart fruits, this seductive effort pleases from start to finish. Supple and dense, it's got strawberry, blueberry, plum and black cherry, a touch of chocolate, and that underlying streak of mineral. All these elements are in good proportion and finish with an appealing silky texture. It's delicious already, but give it another decade for full enjoyment. Drink now through 2028. & Grace Vineyard & 95 & 185.0 & Oregon & Dundee Hills & Willamette Valley & Pinot Noir & Domaine Serene \\\\\n",
       "\t6 & 15 & US & First made in 2006, this succulent luscious Chardonnay is all about minerality. It's got a rich core of butterscotch and the seemingly endless layers of subtle flavors that biodynamic farming can bring. It spends 18 months on the lees prior to bottling. Drink now through 2028. & Sigrid & 95 & 90.0 & Oregon & Willamette Valley & Willamette Valley & Chardonnay & Bergström \\\\\n",
       "\t7 & 26 & US & Bergström has made a Shea designate since 2003, intent on showcasing a “pretty” style of the vineyard. Here are lovely aromatics, with grape jelly, rose petals and plum in the nose, and a complex run of red fruits in the mouth. Streaks of cola, brown sugar and more come up in a generous finish. & Shea Vineyard & 94 & 62.0 & Oregon & Willamette Valley &  & Pinot Noir & Bergström \\\\\n",
       "\t8 & 27 & US & Focused and dense, this intense wine captures the essence of ripe raspberries. Aged in 50\\% new French oak, it's got a strong vein of coffee and mocha. The flavors broaden out and penetrate, finishing with highlights of cedar, cinnamon and dark chocolate. Drink now through the 2020s, but decant if you want the full expression. & Abetina & 94 & 105.0 & Oregon & Willamette Valley & Willamette Valley & Pinot Noir & Ponzi \\\\\n",
       "\t9 & 68 & US & Big, bold, dark and chewy, this builds upon substantial black-cherry fruit and supporting acids. Still knitting together, it shows highlights of cedar and tobacco, along with thick tannins. Give this a couple more years of bottle age, and drink after 2018. & Schindler Vineyard & 91 & 50.0 & Oregon & Eola-Amity Hills & Willamette Valley & Pinot Noir & Panther Creek \\\\\n",
       "\t10 & 73 & US & Massively fruity, this is an apple/pear bonanza, fleshy and almost lasciviously delicious. The huge fruit flavors convey an impression of sweetness, though this is not identified as off dry. It has tremendous density and length. &  & 91 & 19.0 & Oregon & Willamette Valley & Willamette Valley & Pinot Gris & Trinity Vineyards \\\\\n",
       "\t11 & 75 & US & An elegant blend from different estate vineyards, this widely available cuvée brings sturdy tannins and red currant fruit, highlighted with pretty baking spices. It would be an ideal match for roast duck with an orange sauce. & Premier Cuvée & 91 & 54.0 & Oregon & Willamette Valley & Willamette Valley & Pinot Noir & Archery Summit \\\\\n",
       "\t12 & 80 & US & Generous black-cherry fruit anchors this barrel-aged wine that remains tartly acidic, with pretty accents of toast and mocha. Focused, young and fresh, it should drink optimally 2018–2028. & Aeolian & 91 & 42.0 & Oregon & Eola-Amity Hills & Willamette Valley & Pinot Noir & Bethel Heights \\\\\n",
       "\t13 & 143 & US & Estate grown and aged in Stainless steel, this racy and pungent wine is packed with rich, juicy fruit flavors. Apple, lemon-lime and tangerine are in the mix, showing that Chardonnay does not always need oak flavors to have real power. &  & 90 & 26.0 & Oregon & Applegate Valley & Southern Oregon & Chardonnay & Schmidt \\\\\n",
       "\t14 & 150 & US & Reflecting the vintage, this Pinot is light and lithe in style. It shows tart cherry fruit and suggestions of chocolate, with bright acidity and a thin finish. &  & 89 & 50.0 & Oregon & Willamette Valley & Willamette Valley & Pinot Noir & Bomb \\\\\n",
       "\t15 & 157 & US & In this fruit-forward vintage, it's not surprising to find that what shines here are the bright, spicy and tart flavors of strawberries, raspberries and cherries. The Sangiovese was co-fermented with 7\\% Syrah, and aged in 30\\% new American oak. As the wine breathes open the flavors of oak and char come up, and the tannins show some extra grip. &  & 89 & 24.0 & Oregon & Rogue Valley & Southern Oregon & Sangiovese & Ledger David \\\\\n",
       "\t16 & 161 & US & A blend of fruit from three Rogue Valley sites, this is a fine example of the style of Pinot made in Southern Oregon. The estate vineyard sits at 2,100 feet on a steep, east-facing slope, with densely planted vines. It's a big, blocky, full-bodied wine, loaded with flavors of black cherry, black coffee and barrel toast. Tannins are substantial, but the flavors are full and forward. What it lacks in elegance it makes up for in immediate likeability. &  & 89 & 35.0 & Oregon & Oregon & Oregon Other & Pinot Noir & Irvine Family Vineyards \\\\\n",
       "\t17 & 165 & US & Tightly focused, as is often true of single-vineyard bottlings, this matches spicy berry fruit to light barrel flavors of milk chocolate. It's smooth and accessible, but finishes a bit short. & Freedom Hill Vineyard & 89 & 36.0 & Oregon & Willamette Valley & Willamette Valley & Pinot Noir & Silvan Ridge \\\\\n",
       "\t18 & 246 & US & Toasty scents and flavors of the barrels (40\\% new) cloak tart raspberry fruit. It's clean and efficient, though for the moment at least, the barrel flavors outrun the rather light fruit. That can change over time, so give this one until 2015 or so in bottle. & Estate & 88 & 36.0 & Oregon & McMinnville & Willamette Valley & Pinot Noir & Coeur de Terre \\\\\n",
       "\t19 & 252 & US & Sourced from the estate vineyard—the same vineyard that fuels the Private Stash reserve—this shows a dusty, somewhat charred character, presumably from the barrel aging. Along with the slightly burnt toast character comes plenty of black cherry fruit, and acids that leave a slightly chalky impression in the finish. & Wits' End & 88 & 60.0 & Oregon & Chehalem Mountains & Willamette Valley & Pinot Noir & Roco \\\\\n",
       "\t20 & 254 & US & This is a frizzante style of Muscat, the pressure slight enough to allow for a screwcap seal. Off-dry, spicy and aromatic, it's a great sipping wine, with concentrated flavors of sweet orange-pekoe tea. & Early & 88 & 15.0 & Oregon & Willamette Valley & Willamette Valley & Muscat & Silvan Ridge \\\\\n",
       "\t21 & 289 & US & Sourced from a 15-acre vineyard on Parrett Mountain, this displays single vineyard specificity. Entry is surprisingly soft, and (perhaps influenced by the name) there seems to be a pleasing clay-like quality to the mouthfeel. Clean blueberry fruit leads into a tasty, balanced finish. & Clay Court & 91 & 60.0 & Oregon & Willamette Valley & Willamette Valley & Pinot Noir & Elk Cove \\\\\n",
       "\t22 & 292 & US & Sourced from the Chalice (estate) vineyard, this aromatic and seductive wine presents a compelling mix of tree fruits, racy acidity, and a rich, textural, open mouthfeel. The flavors of pears, orange peel and snappy spices linger deliciously through a long finish. &  & 91 & 16.0 & Oregon & Oregon & Oregon Other & Pinot Gris & Iris Vineyards \\\\\n",
       "\t23 & 306 & US & The estate's 13 acres were first planted in 1999. This lovely wine expresses itself with perfectly ripened black-cherry fruit, a dash of cola, and an underpinning of clean earth, complemented with a touch of mineral. The finish is superb. & Bergström Vineyard & 94 & 90.0 & Oregon & Dundee Hills & Willamette Valley & Pinot Noir & Bergström \\\\\n",
       "\t24 & 309 & US & There is a darker fruit spectrum evident in the reserve, with notes of coffee, smoke, black fruits, a touch of charred wood all worked through, and without damping the core fruit flavors. Those bright flavors spotlight raspberry, plum and black cherry. A light cola flavor pokes through, with ripe tannins and proportionate acids. The barrel treatment is beautifully applied, adding sweet spice to the finish. & Evenstad Reserve & 94 & 70.0 & Oregon & Willamette Valley & Willamette Valley & Pinot Noir & Domaine Serene \\\\\n",
       "\t25 & 314 & US & This gorgeous wine deftly integrates a lively mix of currant, cherry, breakfast tea and dried leaves into a seamless and seductive whole. Produced from vines dating back to the early 1970s, it finishes with a delicious streak of milk chocolate. Drink now through 2030. & Durant Vineyard Bishop Block & 94 & 48.0 & Oregon & Dundee Hills & Willamette Valley & Pinot Noir & Patricia Green Cellars \\\\\n",
       "\t26 & 317 & US & Intensely aromatic, yet big and even chunky in the mouth, this young wine remains compressed and hard-edged. Give it ample aeration, and cranberry, blackberry and black cherry fruits come alive. Dense with fruit and detailed with wet stone minerality, this should be cellared a few years, and consumed from 2020 to 2030. & Ribbon Ridge Estate & 94 & 49.0 & Oregon & Ribbon Ridge & Willamette Valley & Pinot Noir & Trisaetum \\\\\n",
       "\t27 & 329 & US & Polished in every way, this brings an enticing potpourri of almond paste, apple and white pepper. Wild yeast fermentation in oak (30\\% new) marries complex components in perfect precise balance. As with all the Ponzi 2014 Chardonnays, the acids are bright but not biting, and the wines are built for both near-term enjoyment and medium-term aging. & Aurora Vineyard & 94 & 63.0 & Oregon & Willamette Valley & Willamette Valley & Chardonnay & Ponzi \\\\\n",
       "\t28 & 337 & US & This lush offering opens with appealing aromas of rose petals and fresh strawberries, then glides into a smooth-as-silk midpalate. The berry/cherry fruit is nicely adorned with toasty barrel flavors, and it's as satiny as new sheets. You'll find it hard to keep from gulping this by the glassful. &  & 91 & 30.0 & Oregon & Willamette Valley & Willamette Valley & Pinot Noir & La Crema \\\\\n",
       "\t29 & 351 & US & A limited, popular entry in Winderlea's extensive single-vineyard lineup, this suggests cherry kirsch with streaks of coffee and tobacco. The pretty fruit leads into darker notes of tar and espresso. Still young and primary, the Juliard may be among the vintage's most long-lasting wines. & Juliard Vineyard & 91 & 48.0 & Oregon & Dundee Hills & Willamette Valley & Pinot Noir & Winderlea \\\\\n",
       "\t30 & 354 & US & Principally Pinot Noir, the blend includes 25\\% Pinot Meunier and a splash of Chardonnay. It's a light and pretty salmon pink in hue, with hints of honeysuckle and moist earth in the nose. Flavors suggest tart raspberries and Bing cherries, with impressive minerality in the crisp, lingering finish. & Brut Rosé & 91 & 50.0 & Oregon & Willamette Valley & Willamette Valley & Sparkling Blend & Argyle \\\\\n",
       "\t$\\dots$ & $\\dots$ & $\\dots$ & $\\dots$ & $\\dots$ & $\\dots$ & $\\dots$ & $\\dots$ & $\\dots$ & $\\dots$ & $\\dots$ & $\\dots$ \\\\\n",
       "\\end{tabular}\n"
      ],
      "text/plain": [
       "4589×11 DataFrame. Omitted printing of 9 columns\n",
       "│ Row  │ Column1 │ country │\n",
       "│      │ \u001b[90mInt64⍰\u001b[39m  │ \u001b[90mString⍰\u001b[39m │\n",
       "├──────┼─────────┼─────────┤\n",
       "│ 1    │ 3       │ US      │\n",
       "│ 2    │ 8       │ US      │\n",
       "│ 3    │ 11      │ US      │\n",
       "│ 4    │ 12      │ US      │\n",
       "│ 5    │ 14      │ US      │\n",
       "│ 6    │ 15      │ US      │\n",
       "│ 7    │ 26      │ US      │\n",
       "│ 8    │ 27      │ US      │\n",
       "│ 9    │ 68      │ US      │\n",
       "│ 10   │ 73      │ US      │\n",
       "⋮\n",
       "│ 4579 │ 149896  │ US      │\n",
       "│ 4580 │ 149897  │ US      │\n",
       "│ 4581 │ 149963  │ US      │\n",
       "│ 4582 │ 150028  │ US      │\n",
       "│ 4583 │ 150068  │ US      │\n",
       "│ 4584 │ 150081  │ US      │\n",
       "│ 4585 │ 150135  │ US      │\n",
       "│ 4586 │ 150185  │ US      │\n",
       "│ 4587 │ 150252  │ US      │\n",
       "│ 4588 │ 150327  │ US      │\n",
       "│ 4589 │ 150372  │ US      │"
      ]
     },
     "execution_count": 252,
     "metadata": {},
     "output_type": "execute_result"
    }
   ],
   "source": [
    "@linq oregon = df |>\n",
    "where(:province .== \"Oregon\")"
   ]
  },
  {
   "cell_type": "code",
   "execution_count": 415,
   "metadata": {},
   "outputs": [
    {
     "name": "stdout",
     "output_type": "stream",
     "text": [
      "The number of wines rated in Oregon: 4589\n",
      "The number of wineries rated in Oregon: 371\n",
      "The number of different variety of wines in Oregon: 67\n"
     ]
    }
   ],
   "source": [
    "varieties = unique(oregon[:variety])\n",
    "wineries = unique(oregon[:winery])\n",
    "\n",
    "n_varieties = length(varieties)\n",
    "n_wineries = length(wineries)\n",
    "@printf(\"The number of wines rated in Oregon: %d\\n\", size(oregon,1))\n",
    "@printf(\"The number of wineries rated in Oregon: %d\\n\", n_wineries)\n",
    "@printf(\"The number of different variety of wines in Oregon: %d\\n\", n_varieties)"
   ]
  },
  {
   "cell_type": "markdown",
   "metadata": {},
   "source": [
    "# Making our data matrix"
   ]
  },
  {
   "cell_type": "code",
   "execution_count": 417,
   "metadata": {},
   "outputs": [
    {
     "data": {
      "text/plain": [
       "67×371 Array{Float64,2}:\n",
       " 91.2857  92.1739  93.5714  91.1905  …  87.0  88.0  -1.0  -1.0  -1.0  85.0\n",
       " 91.3125  94.4286  -1.0     91.3571     -1.0  -1.0  -1.0  -1.0  90.0  -1.0\n",
       " 89.8333  -1.0     -1.0     -1.0        -1.0  -1.0  -1.0  -1.0  -1.0  -1.0\n",
       " -1.0     -1.0     -1.0     -1.0        -1.0  -1.0  -1.0  -1.0  -1.0  -1.0\n",
       " -1.0     -1.0     -1.0     -1.0        -1.0  -1.0  -1.0  -1.0  -1.0  -1.0\n",
       " -1.0     -1.0     -1.0     -1.0     …  -1.0  -1.0  -1.0  82.5  -1.0  -1.0\n",
       " -1.0     -1.0     -1.0     -1.0        -1.0  -1.0  -1.0  -1.0  -1.0  -1.0\n",
       " -1.0     -1.0     -1.0     -1.0        -1.0  -1.0  -1.0  -1.0  -1.0  -1.0\n",
       " -1.0     -1.0     -1.0     -1.0        -1.0  -1.0  -1.0  -1.0  -1.0  -1.0\n",
       " -1.0     -1.0     -1.0     -1.0        -1.0  -1.0  -1.0  -1.0  -1.0  -1.0\n",
       " -1.0     -1.0     -1.0     -1.0     …  -1.0  -1.0  -1.0  -1.0  -1.0  -1.0\n",
       " 89.6     -1.0     -1.0     -1.0        -1.0  -1.0  -1.0  -1.0  -1.0  -1.0\n",
       " 88.3333  -1.0     -1.0     -1.0        -1.0  -1.0  -1.0  -1.0  -1.0  -1.0\n",
       "  ⋮                                  ⋱   ⋮                             ⋮  \n",
       " -1.0     -1.0     -1.0     -1.0     …  -1.0  -1.0  -1.0  -1.0  -1.0  -1.0\n",
       " -1.0     -1.0     -1.0     -1.0        -1.0  -1.0  -1.0  -1.0  -1.0  -1.0\n",
       " -1.0     -1.0     -1.0     -1.0        -1.0  -1.0  -1.0  -1.0  -1.0  -1.0\n",
       " -1.0     -1.0     -1.0     -1.0        -1.0  -1.0  -1.0  -1.0  -1.0  -1.0\n",
       " -1.0     -1.0     -1.0     -1.0        -1.0  -1.0  -1.0  -1.0  -1.0  -1.0\n",
       " -1.0     -1.0     -1.0     -1.0     …  -1.0  -1.0  -1.0  -1.0  -1.0  -1.0\n",
       " -1.0     -1.0     -1.0     -1.0        -1.0  -1.0  -1.0  -1.0  -1.0  -1.0\n",
       " 89.0     -1.0     -1.0     -1.0        -1.0  -1.0  -1.0  -1.0  -1.0  -1.0\n",
       " -1.0     -1.0     -1.0     -1.0        -1.0  -1.0  -1.0  -1.0  -1.0  -1.0\n",
       " -1.0     -1.0     -1.0     -1.0        -1.0  -1.0  -1.0  -1.0  -1.0  -1.0\n",
       " -1.0     -1.0     -1.0     -1.0     …  -1.0  -1.0  -1.0  -1.0  -1.0  -1.0\n",
       " -1.0     -1.0     -1.0     -1.0        -1.0  -1.0  -1.0  -1.0  -1.0  -1.0"
      ]
     },
     "execution_count": 417,
     "metadata": {},
     "output_type": "execute_result"
    }
   ],
   "source": [
    "A = zeros(Float64, n_varieties,n_wineries)\n",
    "x = 0\n",
    "for i = 1:n_varieties\n",
    "    for u = 1:n_wineries\n",
    "        @linq this_winery = oregon |> where(:winery .== wineries[u])\n",
    "        @linq this_wineries_wine = this_winery |> where(:variety .== varieties[i])\n",
    "        n_wines = nrow(this_wineries_wine)\n",
    "        if n_wines > 0\n",
    "            A[i, u] = sum(this_wineries_wine[:points])/n_wines\n",
    "        else\n",
    "            A[i, u] = -1\n",
    "        end\n",
    "    end\n",
    "end\n",
    "A"
   ]
  },
  {
   "cell_type": "markdown",
   "metadata": {},
   "source": [
    "# Lets find the fraction of values against missing values"
   ]
  },
  {
   "cell_type": "code",
   "execution_count": 12,
   "metadata": {},
   "outputs": [
    {
     "data": {
      "text/plain": [
       "0.038902522428289815"
      ]
     },
     "execution_count": 12,
     "metadata": {},
     "output_type": "execute_result"
    }
   ],
   "source": [
    "sum(A .> -1)/length(A)"
   ]
  },
  {
   "cell_type": "code",
   "execution_count": 257,
   "metadata": {},
   "outputs": [],
   "source": [
    "threshold = 4\n",
    "\n",
    "skip_columns = falses(n_wineries)\n",
    "for col = 1:n_wineries\n",
    "    n_not_missing = sum(A[:, col] .> -1)\n",
    "    if n_not_missing > threshold\n",
    "        skip_columns[col] = true\n",
    "    end\n",
    "end\n",
    "\n",
    "skip_rows = falses(n_varieties)\n",
    "for row = 1:n_varieties\n",
    "    n_not_missing = sum(A[row, :] .> -1)\n",
    "    if n_not_missing > threshold\n",
    "        skip_rows[row] = true\n",
    "    end\n",
    "end"
   ]
  },
  {
   "cell_type": "code",
   "execution_count": 258,
   "metadata": {},
   "outputs": [
    {
     "name": "stdout",
     "output_type": "stream",
     "text": [
      "48\n",
      "24\n"
     ]
    }
   ],
   "source": [
    "println(sum(skip_columns))\n",
    "println(sum(skip_rows))"
   ]
  },
  {
   "cell_type": "code",
   "execution_count": 418,
   "metadata": {},
   "outputs": [
    {
     "data": {
      "text/plain": [
       "24×48 Array{Float64,2}:\n",
       "  4.0649   -1.0       -1.0       -0.99004   …  -1.0       -5.22081   -2.97081\n",
       "  4.09169   0.279191  -1.0       -1.0          -1.0       -1.0       -5.22081\n",
       "  2.61252  -1.0       -1.0       -1.36367      -1.0       -4.22081   -4.22081\n",
       " -1.0      -1.0       -1.0       -1.22081      -1.0       -1.0       -3.22081\n",
       " -1.0      -1.0       -1.0       -1.0          -1.0       -1.0       -1.0    \n",
       " -1.0      -1.0       -1.0       -1.0       …  -1.0       -1.0       -1.0    \n",
       " -1.0      -0.220809   1.77919   -2.22081      -1.0        0.779191  -4.22081\n",
       " -1.0      -1.0       -1.0       -1.0          -1.0       -1.0       -4.22081\n",
       " -1.0      -1.0        0.779191   0.779191     -1.0       -1.0       -1.0    \n",
       "  2.37919  -6.22081   -1.0       -1.0          -1.0       -1.0       -3.22081\n",
       "  1.11252  -1.0       -1.0       -1.0       …  -1.0       -1.0       -1.0    \n",
       " -1.0      -1.0       -1.0       -1.0          -1.0       -6.22081   -1.0    \n",
       " -1.0      -1.0       -0.220809  -1.0          -1.0       -1.0       -1.0    \n",
       " -1.0      -1.0       -1.0       -1.88748      -0.220809  -4.22081   -4.22081\n",
       " -1.0      -1.0       -0.220809  -1.0          -1.0       -7.22081   -3.22081\n",
       "  2.77919  -1.0       -1.0       -1.0       …  -1.0       -1.0       -1.0    \n",
       " -1.0      -1.0       -1.0       -1.0          -1.0       -1.0       -1.0    \n",
       " -1.0       0.445857  -1.0       -4.22081      -4.22081   -4.22081   -1.0    \n",
       " -1.0      -1.0       -1.0       -1.0          -1.0       -1.0       -1.0    \n",
       " -1.0      -1.0        4.77919   -1.0          -2.22081   -1.0       -1.0    \n",
       " -1.0      -1.0       -1.0       -1.0       …  -1.0       -1.0       -1.0    \n",
       " -1.0      -2.22081   -1.0       -3.22081      -1.22081   -1.0       -5.22081\n",
       " -1.0      -1.0       -1.0       -1.0          -1.0       -1.0       -1.0    \n",
       " -1.0      -1.0       -1.0       -1.0          -1.0       -1.0       -1.0    "
      ]
     },
     "execution_count": 418,
     "metadata": {},
     "output_type": "execute_result"
    }
   ],
   "source": [
    "data_matrix = A[skip_rows, skip_columns]\n",
    "OG = deepcopy(data_matrix)\n",
    "mask = data_matrix .> 0\n",
    "avg_rating = sum(data_matrix[mask])/length(data_matrix[mask])\n",
    "data_matrix[mask] = data_matrix[mask] .- avg_rating\n",
    "data_matrix"
   ]
  },
  {
   "cell_type": "code",
   "execution_count": 419,
   "metadata": {},
   "outputs": [
    {
     "data": {
      "text/plain": [
       "0.15625"
      ]
     },
     "execution_count": 419,
     "metadata": {},
     "output_type": "execute_result"
    }
   ],
   "source": [
    "sum(data_matrix .> -1)/length(data_matrix)"
   ]
  },
  {
   "cell_type": "code",
   "execution_count": 431,
   "metadata": {},
   "outputs": [
    {
     "data": {
      "text/plain": [
       "SGD (generic function with 1 method)"
      ]
     },
     "execution_count": 431,
     "metadata": {},
     "output_type": "execute_result"
    }
   ],
   "source": [
    "function SGD(X::Array{Float64, 2}, k::Int64, γ::Float64, n_epoch::Int64)\n",
    "    n_variety, n_winery = size(X)\n",
    "    p = rand(n_variety, k) .* 0.2 .- 0.1\n",
    "    q = rand(n_winery, k) .* 0.2 .- 0.1\n",
    "    \n",
    "    for ep = 1:n_epoch\n",
    "        for i = 1:n_variety\n",
    "            for j = 1:n_winery\n",
    "                if X[i,j] < 0\n",
    "                    continue\n",
    "                end\n",
    "                err = X[i,j] - dot(p[i, :], q[j, :])\n",
    "                q_ = err * q[j, :]\n",
    "                p_ = err * p[i, :]\n",
    "                p[i, :] += γ * q_\n",
    "                q[j, :] += γ * p_\n",
    "            end\n",
    "        end\n",
    "    end\n",
    "    return p, q\n",
    "end"
   ]
  },
  {
   "cell_type": "code",
   "execution_count": 432,
   "metadata": {},
   "outputs": [
    {
     "data": {
      "text/plain": [
       "([0.816621 -0.418353 … 0.073985 0.593846; 0.255447 0.10275 … 0.0179691 0.328851; … ; 1.34412 -0.461248 … 0.894955 -0.28936; 1.32862 -0.646737 … 0.836486 -0.400612], [0.466949 -0.0867776 … -0.232825 -0.00341132; 0.14248 -0.0242611 … -0.0206372 0.0377417; … ; 0.126504 -0.119769 … 0.0133615 0.0662394; 0.0281446 -0.02607 … -0.00785101 0.0707364])"
      ]
     },
     "execution_count": 432,
     "metadata": {},
     "output_type": "execute_result"
    }
   ],
   "source": [
    "p, q = SGD(data_matrix, 10, 0.01, 100)"
   ]
  },
  {
   "cell_type": "code",
   "execution_count": 433,
   "metadata": {},
   "outputs": [
    {
     "data": {
      "text/plain": [
       "estimate (generic function with 1 method)"
      ]
     },
     "execution_count": 433,
     "metadata": {},
     "output_type": "execute_result"
    }
   ],
   "source": [
    "function estimate(wine, variety)\n",
    "    @printf(\"Winery: %s\\nVariety: %s\\n\", wineries[wine], varieties[variety])\n",
    "    return dot(p[wine], q[variety]) + avg_rating\n",
    "end"
   ]
  },
  {
   "cell_type": "code",
   "execution_count": 434,
   "metadata": {},
   "outputs": [
    {
     "name": "stdout",
     "output_type": "stream",
     "text": [
      "Winery: Panther Creek\n",
      "Variety: Pinot Gris\n"
     ]
    },
    {
     "data": {
      "text/plain": [
       "87.12024249848974"
      ]
     },
     "execution_count": 434,
     "metadata": {},
     "output_type": "execute_result"
    }
   ],
   "source": [
    "estimate(5, 3)"
   ]
  },
  {
   "cell_type": "code",
   "execution_count": 436,
   "metadata": {},
   "outputs": [
    {
     "name": "stdout",
     "output_type": "stream",
     "text": [
      "Root Mean Squared Error: 1.120706\n"
     ]
    }
   ],
   "source": [
    "new_ratings = p*q'\n",
    "rmse = sqrt(sum((data_matrix[mask].-new_ratings[mask]).^2)/length(data_matrix))\n",
    "@printf(\"Root Mean Squared Error: %f\\n\", rmse)"
   ]
  },
  {
   "cell_type": "code",
   "execution_count": 360,
   "metadata": {},
   "outputs": [
    {
     "data": {
      "text/plain": [
       "SGD_regularized (generic function with 1 method)"
      ]
     },
     "execution_count": 360,
     "metadata": {},
     "output_type": "execute_result"
    }
   ],
   "source": [
    "function SGD_regularized(X::Array{Float64, 2}, k::Int64, γ::Float64, n_epoch::Int64, λ::Float64)\n",
    "    n_variety, n_winery = size(X)\n",
    "    p = rand(n_variety, k) .* 2 .- 1\n",
    "    q = rand(n_winery, k) .* 2 .- 1\n",
    "    \n",
    "    for ep = 1:n_epoch\n",
    "        for i = 1:n_variety\n",
    "            for j = 1:n_winery\n",
    "                if X[i,j] < 0\n",
    "                    continue\n",
    "                end\n",
    "                err = X[i,j] - dot(p[i, :], q[j, :])\n",
    "                q_ = err * q[j, :]\n",
    "                p_ = err * p[i, :]\n",
    "                p[i, :] += γ * (q_ - λ .* p[i, :])\n",
    "                q[j, :] += γ * (p_ - λ .* q[j, :])\n",
    "            end\n",
    "        end\n",
    "    end\n",
    "    return p, q\n",
    "end"
   ]
  },
  {
   "cell_type": "code",
   "execution_count": 427,
   "metadata": {},
   "outputs": [
    {
     "data": {
      "text/plain": [
       "([-0.246461 0.617844 … -0.432837 -0.115429; -0.0289538 -0.178223 … -0.476018 -0.305676; … ; -1.13563 0.624995 … -0.844984 -0.304396; -0.883505 1.84268 … -0.354454 -0.666433], [-0.532737 -0.222233 … -0.647947 -0.504887; -0.179209 0.560603 … 0.414415 -0.217158; … ; 0.558224 0.256096 … 0.235618 0.266347; -0.880881 0.403641 … 0.730178 -0.611976])"
      ]
     },
     "execution_count": 427,
     "metadata": {},
     "output_type": "execute_result"
    }
   ],
   "source": [
    "p, q = SGD_regularized(data_matrix, 10, 0.01, 1000, 0.02)"
   ]
  },
  {
   "cell_type": "code",
   "execution_count": 437,
   "metadata": {},
   "outputs": [
    {
     "name": "stdout",
     "output_type": "stream",
     "text": [
      "Root Mean Squared Error for regularized model: 1.120706\n"
     ]
    }
   ],
   "source": [
    "new_ratings_regularized = p*q'\n",
    "rmse_regularized = sqrt(sum((data_matrix[mask].-new_ratings_regularized[mask]).^2)/length(data_matrix))\n",
    "@printf(\"Root Mean Squared Error for regularized model: %f\\n\", rmse_regularized)"
   ]
  },
  {
   "cell_type": "code",
   "execution_count": 429,
   "metadata": {},
   "outputs": [
    {
     "data": {
      "text/plain": [
       "24×48 Array{Float64,2}:\n",
       " 91.3913  87.0707  89.2168  86.8622  …  88.4693  86.9373  89.3271  88.6013\n",
       " 91.3178  87.5966  87.5279  86.4009     89.0724  86.6607  88.0337  88.4641\n",
       " 90.0644  87.7838  88.8643  85.6786     88.1227  87.6614  88.1705  89.7892\n",
       " 86.2496  87.6029  87.2003  88.241      87.7114  89.1274  88.2716  85.6729\n",
       " 88.087   87.3035  88.7185  87.1119     85.7461  87.0139  88.1814  87.8346\n",
       " 89.31    87.0693  88.2289  87.0145  …  88.3553  86.8764  88.2332  87.2754\n",
       " 89.1148  86.3302  89.2465  88.4918     86.6484  84.7548  88.2474  87.6477\n",
       " 88.1893  86.5168  88.8003  87.3084     87.8197  84.8569  87.2536  88.7284\n",
       " 88.3528  86.6167  88.0275  88.0205     86.9521  85.655   87.6899  87.5284\n",
       " 90.1268  89.0414  88.4873  86.8238     89.3019  88.3309  89.4775  88.8896\n",
       " 88.2417  86.5928  87.9251  87.113   …  86.9167  86.5113  87.4308  87.6678\n",
       " 88.2384  87.5754  88.7023  86.6849     87.2517  87.92    88.2487  87.2741\n",
       " 88.2151  86.6199  88.2916  87.8787     87.0143  86.1644  87.926   86.0008\n",
       " 89.4992  86.4272  90.3963  87.8825     85.9403  87.2396  90.0592  87.5186\n",
       " 89.0338  86.9544  88.5146  87.1413     86.988   87.6631  89.0198  87.2196\n",
       " 90.0828  87.2405  88.4698  86.599   …  87.5173  87.9211  88.2862  88.1557\n",
       " 88.8603  87.079   88.8198  86.8864     86.97    88.7181  88.7977  87.7424\n",
       " 87.2336  87.6837  87.5716  88.3101     86.8338  85.9971  87.2199  89.3757\n",
       " 89.2132  87.7831  88.5634  87.0506     87.7045  87.2668  88.8147  87.6358\n",
       " 87.9884  87.2301  92.3815  85.6566     86.754   89.132   90.7724  87.6466\n",
       " 87.7382  88.4171  87.8652  85.8612  …  88.4872  87.7416  87.9883  89.1294\n",
       " 86.9643  86.7378  90.4227  85.4697     85.796   86.8967  87.2564  87.6188\n",
       " 86.4705  86.76    87.6804  88.438      87.3641  86.7875  86.6646  86.7428\n",
       " 88.1474  88.2038  88.0883  87.2337     88.2346  86.6813  87.4147  88.8286"
      ]
     },
     "execution_count": 429,
     "metadata": {},
     "output_type": "execute_result"
    }
   ],
   "source": [
    "new_ratings_regularized .+ average_rating"
   ]
  },
  {
   "cell_type": "code",
   "execution_count": 430,
   "metadata": {},
   "outputs": [
    {
     "data": {
      "text/plain": [
       "24×48 Array{Float64,2}:\n",
       " 91.5542  87.7967  90.7919  88.0734  …  87.3681  87.3663  87.6469  87.4399\n",
       " 91.0967  87.6065  89.8539  87.5971     87.2649  87.443   87.2288  87.5075\n",
       " 90.3383  87.6112  89.2179  88.008      87.4319  87.5074  87.6203  87.6317\n",
       " 87.5165  87.3701  87.3594  87.41       87.3865  87.3834  87.3842  87.3887\n",
       " 87.7595  87.3748  87.7396  87.4331     87.3562  87.3657  87.4389  87.3771\n",
       " 89.2444  87.5476  88.4756  87.6983  …  87.3941  87.525   87.4791  87.5394\n",
       " 89.5327  87.7524  89.2428  88.6675     87.4726  87.4926  88.2513  87.5384\n",
       " 90.0703  87.8217  90.1801  87.4714     87.4026  87.5431  87.3511  87.5246\n",
       " 88.0794  87.4326  88.0706  87.8788     87.2834  87.257   87.6413  87.2359\n",
       " 90.2513  88.0934  89.7523  88.1077     87.6415  87.9734  87.8807  87.7955\n",
       " 88.2559  87.2415  88.0355  87.695   …  87.136   87.1222  87.4601  87.117 \n",
       " 88.8625  87.4242  89.211   87.937      87.1656  87.1991  87.6649  87.195 \n",
       " 89.0748  87.5885  88.7587  87.8583     87.3914  87.4131  87.668   87.496 \n",
       " 90.383   87.8265  90.0202  88.1922     87.6081  87.5411  88.0327  87.6094\n",
       " 89.6518  87.4165  89.485   87.5227     87.1619  87.0748  87.3195  87.1424\n",
       " 89.8648  87.5455  89.9206  87.6805  …  87.284   87.3267  87.5712  87.3673\n",
       " 87.2059  87.2999  87.2442  87.2985     87.3093  87.2939  87.3025  87.278 \n",
       " 88.6263  87.6893  88.9084  88.4007     87.2578  87.2745  87.8724  87.1372\n",
       " 88.9004  87.4584  88.0329  87.4919     87.3763  87.6335  87.4583  87.6346\n",
       " 91.5304  88.1979  92.3965  88.0119     87.5737  87.5817  87.8696  87.6219\n",
       " 87.4621  87.3371  87.3899  87.3304  …  87.3262  87.3299  87.3231  87.3304\n",
       " 89.1979  87.7147  89.6981  88.0432     87.3698  87.3523  87.7656  87.1889\n",
       " 88.6015  87.5625  88.7622  88.1232     87.2929  87.3335  87.7632  87.2383\n",
       " 88.7511  87.7447  88.9542  88.241      87.4482  87.4945  87.8894  87.3627"
      ]
     },
     "execution_count": 430,
     "metadata": {},
     "output_type": "execute_result"
    }
   ],
   "source": [
    "new_ratings .+ average_rating"
   ]
  }
 ],
 "metadata": {
  "kernelspec": {
   "display_name": "Julia 1.0.0",
   "language": "julia",
   "name": "julia-1.0"
  },
  "language_info": {
   "file_extension": ".jl",
   "mimetype": "application/julia",
   "name": "julia",
   "version": "1.0.0"
  }
 },
 "nbformat": 4,
 "nbformat_minor": 2
}
